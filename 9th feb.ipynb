{
 "cells": [
  {
   "cell_type": "markdown",
   "id": "14d1aeee",
   "metadata": {},
   "source": [
    "## Q1----"
   ]
  },
  {
   "cell_type": "code",
   "execution_count": 3,
   "id": "9df8cb2f",
   "metadata": {},
   "outputs": [],
   "source": [
    "class vehicle:\n",
    "    def __init__ (self,name_of_vehicle,max_speed,average_of_vehicle):\n",
    "        self.name_of_vehicle=name_of_vehicle\n",
    "        self.max_speed=max_speed\n",
    "        self.average_of_vehicle=average_of_vehicle\n",
    "    \n"
   ]
  },
  {
   "cell_type": "code",
   "execution_count": 5,
   "id": "0dd9e67f",
   "metadata": {},
   "outputs": [],
   "source": [
    "car=vehicle(\"mercedies\",180,70)\n",
    "bike=vehicle(\"hero\",120,50)"
   ]
  },
  {
   "cell_type": "code",
   "execution_count": 10,
   "id": "5bd12a89",
   "metadata": {},
   "outputs": [
    {
     "name": "stdout",
     "output_type": "stream",
     "text": [
      "Sedan has a seating capacity of 5 passengers.\n"
     ]
    }
   ],
   "source": [
    "class car(vehicle):\n",
    "    def __init__ (self,name_of_vehicle,max_speed,average_of_vehicle):\n",
    "        super().__init__ (name_of_vehicle,max_speed,average_of_vehicle)\n",
    "        \n",
    "        def seating_capacity(self, capacity):\n",
    "            return f\"{self.name_of_vehicle} has a seating capacity of {capacity} passengers.\"\n",
    "    my_car = Car(\"Sedan\", 180, 65)\n",
    "    capacity_message = my_car.seating_capacity(5)\n",
    "    print(capacity_message)\n",
    "        \n",
    "            \n",
    "    "
   ]
  },
  {
   "cell_type": "markdown",
   "id": "987d7686",
   "metadata": {},
   "source": [
    "## Q3----"
   ]
  },
  {
   "cell_type": "code",
   "execution_count": 11,
   "id": "8fb60013",
   "metadata": {},
   "outputs": [
    {
     "name": "stdout",
     "output_type": "stream",
     "text": [
      "Polly says 'Polly wants a cracker!'\n"
     ]
    }
   ],
   "source": [
    "# Parent class 1\n",
    "class Animal:\n",
    "    def __init__(self, name):\n",
    "        self.name = name\n",
    "\n",
    "    def speak(self):\n",
    "        pass\n",
    "\n",
    "# Parent class 2\n",
    "class Bird:\n",
    "    def fly(self):\n",
    "        pass\n",
    "\n",
    "# Child class inheriting from both Animal and Bird\n",
    "class Parrot(Animal, Bird):\n",
    "    def speak(self):\n",
    "        return f\"{self.name} says 'Polly wants a cracker!'\"\n",
    "\n",
    "# Create an instance of Parrot\n",
    "polly = Parrot(\"Polly\")\n",
    "\n",
    "# Call methods from both parent classes\n",
    "print(polly.speak())  # Output: \"Polly says 'Polly wants a cracker!'\"\n",
    "polly.fly()  # Parrots can also fly\n"
   ]
  },
  {
   "cell_type": "markdown",
   "id": "b82288d8",
   "metadata": {},
   "source": [
    "## Q4----"
   ]
  },
  {
   "cell_type": "code",
   "execution_count": 12,
   "id": "1ce04487",
   "metadata": {},
   "outputs": [
    {
     "name": "stdout",
     "output_type": "stream",
     "text": [
      "Name: Alice\n",
      "Age: 20\n",
      "Name: Bob\n",
      "Age: 22\n"
     ]
    }
   ],
   "source": [
    "class Student:\n",
    "    def __init__(self, name, age):\n",
    "        self._name = name  # Private attribute with a single underscore prefix\n",
    "        self._age = age\n",
    "\n",
    "    # Getter method for 'name' attribute\n",
    "    def get_name(self):\n",
    "        return self._name\n",
    "\n",
    "    # Setter method for 'name' attribute\n",
    "    def set_name(self, name):\n",
    "        self._name = name\n",
    "\n",
    "    # Getter method for 'age' attribute\n",
    "    def get_age(self):\n",
    "        return self._age\n",
    "\n",
    "    # Setter method for 'age' attribute\n",
    "    def set_age(self, age):\n",
    "        if age < 0:\n",
    "            print(\"Age cannot be negative.\")\n",
    "        else:\n",
    "            self._age = age\n",
    "\n",
    "# Create an instance of the Student class\n",
    "student1 = Student(\"Alice\", 20)\n",
    "\n",
    "# Get the name and age using getter methods\n",
    "print(\"Name:\", student1.get_name())  # Output: \"Name: Alice\"\n",
    "print(\"Age:\", student1.get_age())    # Output: \"Age: 20\"\n",
    "\n",
    "# Set new values using setter methods\n",
    "student1.set_name(\"Bob\")\n",
    "student1.set_age(22)\n",
    "\n",
    "# Get the updated values using getter methods\n",
    "print(\"Name:\", student1.get_name())  # Output: \"Name: Bob\"\n",
    "print(\"Age:\", student1.get_age())    # Output: \"Age: 22\"\n"
   ]
  },
  {
   "cell_type": "markdown",
   "id": "17a08f02",
   "metadata": {},
   "source": [
    "## Q5---------"
   ]
  },
  {
   "cell_type": "code",
   "execution_count": 13,
   "id": "67065bf3",
   "metadata": {},
   "outputs": [
    {
     "name": "stdout",
     "output_type": "stream",
     "text": [
      "Dog barks\n",
      "Cat meows\n"
     ]
    }
   ],
   "source": [
    "class Animal:\n",
    "    def speak(self):\n",
    "        return \"Animal speaks\"\n",
    "\n",
    "class Dog(Animal):\n",
    "    # Method overriding\n",
    "    def speak(self):\n",
    "        return \"Dog barks\"\n",
    "\n",
    "class Cat(Animal):\n",
    "    # Method overriding\n",
    "    def speak(self):\n",
    "        return \"Cat meows\"\n",
    "\n",
    "# Create instances of Dog and Cat\n",
    "dog = Dog()\n",
    "cat = Cat()\n",
    "\n",
    "# Call the speak method on instances\n",
    "print(dog.speak())  # Output: \"Dog barks\"\n",
    "print(cat.speak())  # Output: \"Cat meows\"\n"
   ]
  },
  {
   "cell_type": "code",
   "execution_count": null,
   "id": "64e45db7",
   "metadata": {},
   "outputs": [],
   "source": []
  }
 ],
 "metadata": {
  "kernelspec": {
   "display_name": "Python 3 (ipykernel)",
   "language": "python",
   "name": "python3"
  },
  "language_info": {
   "codemirror_mode": {
    "name": "ipython",
    "version": 3
   },
   "file_extension": ".py",
   "mimetype": "text/x-python",
   "name": "python",
   "nbconvert_exporter": "python",
   "pygments_lexer": "ipython3",
   "version": "3.11.2"
  }
 },
 "nbformat": 4,
 "nbformat_minor": 5
}
